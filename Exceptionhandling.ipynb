{
 "cells": [
  {
   "cell_type": "code",
   "execution_count": null,
   "id": "583f6ec2-abf2-4a83-97e5-a8129508025a",
   "metadata": {},
   "outputs": [],
   "source": [
    "1 An exception is an event, which occurs during the execution of a program. An exception is a Python object that represents an error.\n",
    ". The error implies a problem that mostly arises due to the shortage of system resources. On the other hand, the exceptions occur during runtime and compile time."
   ]
  },
  {
   "cell_type": "code",
   "execution_count": null,
   "id": "ae27f268-307a-4bf2-8dd7-d605930f1e2f",
   "metadata": {},
   "outputs": [],
   "source": [
    "2 When we can not handle the exception we made a class file and try to run it successfully and print to the console "
   ]
  },
  {
   "cell_type": "code",
   "execution_count": 1,
   "id": "e5c1e030-c52f-4c82-842f-bf250b3bc10c",
   "metadata": {},
   "outputs": [
    {
     "name": "stdout",
     "output_type": "stream",
     "text": [
      "this is my except block [Errno 2] No such file or directory: 'test.txt'\n"
     ]
    },
    {
     "data": {
      "text/plain": [
       "9"
      ]
     },
     "execution_count": 1,
     "metadata": {},
     "output_type": "execute_result"
    }
   ],
   "source": [
    "try : \n",
    "    f = open(\"test.txt\" , 'r')\n",
    "except Exception as e :\n",
    "    print(\"this is my except block\" , e)\n",
    "a = 4+5\n",
    "a"
   ]
  },
  {
   "cell_type": "code",
   "execution_count": null,
   "id": "00f860f8-b7d9-4a21-8d37-5140fc4c8b38",
   "metadata": {},
   "outputs": [],
   "source": [
    "3 The try and except block in Python is used to catch and handle exceptions. "
   ]
  },
  {
   "cell_type": "code",
   "execution_count": 2,
   "id": "1e92b596-84a3-43c1-9ac7-37768c1cb211",
   "metadata": {},
   "outputs": [
    {
     "name": "stdout",
     "output_type": "stream",
     "text": [
      "this will be executed once your try will execute without error\n"
     ]
    }
   ],
   "source": [
    "try :\n",
    "    f = open(\"test.txt\" ,'w')\n",
    "    f.write(\" write into my file\")\n",
    "except Exception as e :\n",
    "    print(\"this is my except block\" , e)\n",
    "else :\n",
    "    f.close()\n",
    "    print(\"this will be executed once your try will execute without error\")"
   ]
  },
  {
   "cell_type": "code",
   "execution_count": 3,
   "id": "5e0d562e-113f-4cfb-97a5-4d48c0687f72",
   "metadata": {},
   "outputs": [
    {
     "name": "stdout",
     "output_type": "stream",
     "text": [
      "this will be executed once your try will execute without error\n"
     ]
    }
   ],
   "source": [
    "4 The try block lets you test a block of code for errors\n",
    "The else block lets you execute code when there is no error\n",
    "try :\n",
    "    f = open(\"test.txt\" ,'w')\n",
    "    f.write(\" write into my file\")\n",
    "except Exception as e :\n",
    "    print(\"this is my except block\" , e)\n",
    "else :\n",
    "    f.close()\n",
    "    print(\"this will be executed once your try will execute without error\")"
   ]
  },
  {
   "cell_type": "code",
   "execution_count": 4,
   "id": "77a0abba-dfc5-4603-ac56-fc54450db954",
   "metadata": {},
   "outputs": [
    {
     "name": "stdout",
     "output_type": "stream",
     "text": [
      "finally will execute itself in an situation\n"
     ]
    }
   ],
   "source": [
    "The finally code will be executed no matter what\n",
    "try :\n",
    "    f = open(\"test2.txt\" , 'w')\n",
    "    f.write(\"write something\")\n",
    "finally :\n",
    "    print(\"finally will execute itself in an situation\")"
   ]
  },
  {
   "cell_type": "code",
   "execution_count": null,
   "id": "9968dff4-e4cf-4ec7-9ed9-d73151757378",
   "metadata": {},
   "outputs": [],
   "source": [
    "try :\n",
    "    age = int(input(\"enter your age\"))\n",
    "    validateage(age)\n",
    "except validateage as e :\n",
    "    print(e)"
   ]
  },
  {
   "cell_type": "code",
   "execution_count": null,
   "id": "6e0fbc16-9b41-4be9-9c61-82a7c900dcb1",
   "metadata": {},
   "outputs": [],
   "source": [
    "5 Custom exceptions are basically classes \n",
    "we need custom exception to add information about project related program"
   ]
  },
  {
   "cell_type": "code",
   "execution_count": null,
   "id": "0452b7f0-2dac-4b91-925b-8915bc15f2a9",
   "metadata": {},
   "outputs": [],
   "source": [
    "6 try :\n",
    "    age = int(input(\"enter your age\"))\n",
    "    validateage(age)\n",
    "except validateage as e :\n",
    "    print(e)"
   ]
  },
  {
   "cell_type": "code",
   "execution_count": null,
   "id": "3e394718-36ba-4e15-aaa3-89dc1d00d2b1",
   "metadata": {},
   "outputs": [],
   "source": []
  }
 ],
 "metadata": {
  "kernelspec": {
   "display_name": "Python 3 (ipykernel)",
   "language": "python",
   "name": "python3"
  },
  "language_info": {
   "codemirror_mode": {
    "name": "ipython",
    "version": 3
   },
   "file_extension": ".py",
   "mimetype": "text/x-python",
   "name": "python",
   "nbconvert_exporter": "python",
   "pygments_lexer": "ipython3",
   "version": "3.10.8"
  }
 },
 "nbformat": 4,
 "nbformat_minor": 5
}
