{
 "cells": [
  {
   "cell_type": "code",
   "execution_count": null,
   "id": "cc972168-472c-4fb7-a40b-4b16ca4d864a",
   "metadata": {},
   "outputs": [],
   "source": [
    "1 Abstraction is the process of hiding details from the outer world and It describe things in simple term\n",
    "ex- making coffee in a coffee maker"
   ]
  },
  {
   "cell_type": "code",
   "execution_count": null,
   "id": "63a39ea5-d449-4dc5-8b75-f209f7d7ef1e",
   "metadata": {},
   "outputs": [],
   "source": [
    "2 In encapsulation, it stops user to see the details basically it hides the details so the user can not modify it easily \n",
    "and in abstraction, it hides details from the outer world but user can modify it easily"
   ]
  },
  {
   "cell_type": "code",
   "execution_count": null,
   "id": "632b5979-658c-464e-b9eb-561bee3653e3",
   "metadata": {},
   "outputs": [],
   "source": [
    "3 abc module defines abstract base class. It is ued for making methods of the base class abstract"
   ]
  },
  {
   "cell_type": "code",
   "execution_count": null,
   "id": "100cac8b-4e0e-4c57-9676-3e57fb147097",
   "metadata": {},
   "outputs": [],
   "source": [
    "4 We can achieve abstract in key words for classes and also write the methods"
   ]
  },
  {
   "cell_type": "code",
   "execution_count": null,
   "id": "336b0d81-98af-40bd-b3ae-1739204d3831",
   "metadata": {},
   "outputs": [],
   "source": [
    "5 Yes we can create an instance of an abstract class. When an instance of an abstract class is subclassed ,the subclass usually provide implementation\n",
    "for all the abstract methods in parent class"
   ]
  }
 ],
 "metadata": {
  "kernelspec": {
   "display_name": "Python 3 (ipykernel)",
   "language": "python",
   "name": "python3"
  },
  "language_info": {
   "codemirror_mode": {
    "name": "ipython",
    "version": 3
   },
   "file_extension": ".py",
   "mimetype": "text/x-python",
   "name": "python",
   "nbconvert_exporter": "python",
   "pygments_lexer": "ipython3",
   "version": "3.10.8"
  }
 },
 "nbformat": 4,
 "nbformat_minor": 5
}
