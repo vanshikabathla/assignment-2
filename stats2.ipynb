{
 "cells": [
  {
   "cell_type": "code",
   "execution_count": null,
   "id": "397fa597-3abb-4c8d-b69c-b9d4ba98f643",
   "metadata": {},
   "outputs": [],
   "source": [
    "1 mean , median, mode"
   ]
  },
  {
   "cell_type": "code",
   "execution_count": null,
   "id": "b60ce8bd-195f-47a5-80c6-397db7a07a7e",
   "metadata": {},
   "outputs": [],
   "source": [
    "2 Mean - The mean represents the average value of the dataset. \n",
    "Median - Median is the middle value of the dataset in which the dataset is arranged in the ascending order or in descending order.\n",
    "Mode - The mode represents the frequently occurring value in the dataset. "
   ]
  },
  {
   "cell_type": "code",
   "execution_count": 7,
   "id": "e38d2350-6c1f-4132-a06b-463380705218",
   "metadata": {},
   "outputs": [],
   "source": [
    "age=[12,21,23,45,65,43,56,45,32,67,54,34] "
   ]
  },
  {
   "cell_type": "code",
   "execution_count": 8,
   "id": "3d87d000-e170-4afd-8109-ea1de508160f",
   "metadata": {},
   "outputs": [
    {
     "data": {
      "text/plain": [
       "41.416666666666664"
      ]
     },
     "execution_count": 8,
     "metadata": {},
     "output_type": "execute_result"
    }
   ],
   "source": [
    "import numpy as np\n",
    "np.mean(age)"
   ]
  },
  {
   "cell_type": "code",
   "execution_count": 9,
   "id": "d20349b1-18ad-4af5-b30d-3f02a1a96e35",
   "metadata": {},
   "outputs": [
    {
     "data": {
      "text/plain": [
       "44.0"
      ]
     },
     "execution_count": 9,
     "metadata": {},
     "output_type": "execute_result"
    }
   ],
   "source": [
    "np.median(age)"
   ]
  },
  {
   "cell_type": "code",
   "execution_count": 12,
   "id": "c455c722-a766-425e-ac90-d81acceb9491",
   "metadata": {},
   "outputs": [],
   "source": [
    "from scipy import stats"
   ]
  },
  {
   "cell_type": "code",
   "execution_count": 13,
   "id": "511845d2-9028-4c1a-ad1d-732f07be0deb",
   "metadata": {},
   "outputs": [
    {
     "name": "stderr",
     "output_type": "stream",
     "text": [
      "/tmp/ipykernel_70/326492888.py:1: FutureWarning: Unlike other reduction functions (e.g. `skew`, `kurtosis`), the default behavior of `mode` typically preserves the axis it acts along. In SciPy 1.11.0, this behavior will change: the default value of `keepdims` will become False, the `axis` over which the statistic is taken will be eliminated, and the value None will no longer be accepted. Set `keepdims` to True or False to avoid this warning.\n",
      "  stats.mode(age)\n"
     ]
    },
    {
     "data": {
      "text/plain": [
       "ModeResult(mode=array([45]), count=array([2]))"
      ]
     },
     "execution_count": 13,
     "metadata": {},
     "output_type": "execute_result"
    }
   ],
   "source": [
    "stats.mode(age) "
   ]
  },
  {
   "cell_type": "code",
   "execution_count": 14,
   "id": "1982d4cc-0860-4a6a-9292-b511ac306158",
   "metadata": {},
   "outputs": [],
   "source": [
    "height = [178,177,176,177,178.2,178,175,179,180,175,178.9,176.2,177,172.5,178,176.5]"
   ]
  },
  {
   "cell_type": "code",
   "execution_count": 16,
   "id": "8d9026ea-2ad6-489d-9990-225fa13ee72a",
   "metadata": {},
   "outputs": [
    {
     "data": {
      "text/plain": [
       "177.01875"
      ]
     },
     "execution_count": 16,
     "metadata": {},
     "output_type": "execute_result"
    }
   ],
   "source": [
    "np.mean(height)"
   ]
  },
  {
   "cell_type": "code",
   "execution_count": 17,
   "id": "c8cadc60-e8ed-43cf-880a-c54a91780e8e",
   "metadata": {},
   "outputs": [
    {
     "data": {
      "text/plain": [
       "177.0"
      ]
     },
     "execution_count": 17,
     "metadata": {},
     "output_type": "execute_result"
    }
   ],
   "source": [
    "np.median(height)"
   ]
  },
  {
   "cell_type": "code",
   "execution_count": 18,
   "id": "6f6a5e1d-2e88-457c-b961-5c01c78ecb6f",
   "metadata": {},
   "outputs": [
    {
     "name": "stderr",
     "output_type": "stream",
     "text": [
      "/tmp/ipykernel_70/1690947930.py:1: FutureWarning: Unlike other reduction functions (e.g. `skew`, `kurtosis`), the default behavior of `mode` typically preserves the axis it acts along. In SciPy 1.11.0, this behavior will change: the default value of `keepdims` will become False, the `axis` over which the statistic is taken will be eliminated, and the value None will no longer be accepted. Set `keepdims` to True or False to avoid this warning.\n",
      "  stats.mode(height)\n"
     ]
    },
    {
     "data": {
      "text/plain": [
       "ModeResult(mode=array([177.]), count=array([3]))"
      ]
     },
     "execution_count": 18,
     "metadata": {},
     "output_type": "execute_result"
    }
   ],
   "source": [
    "stats.mode(height)"
   ]
  },
  {
   "cell_type": "code",
   "execution_count": 19,
   "id": "40a31c2c-3bf2-423c-94e5-56711efdf102",
   "metadata": {},
   "outputs": [],
   "source": [
    "data = [178,177,176,177,178.2,178,175,179,180,175,178.9,176.2,177,172.5,178,176.5]"
   ]
  },
  {
   "cell_type": "code",
   "execution_count": 20,
   "id": "4a19416a-80aa-458f-8836-e8672c26ef82",
   "metadata": {},
   "outputs": [
    {
     "data": {
      "text/plain": [
       "1.7885814036548633"
      ]
     },
     "execution_count": 20,
     "metadata": {},
     "output_type": "execute_result"
    }
   ],
   "source": [
    "np.std(data)"
   ]
  },
  {
   "cell_type": "code",
   "execution_count": null,
   "id": "0a11ff38-76fb-43f8-95aa-fdf907b948e0",
   "metadata": {},
   "outputs": [],
   "source": [
    "5 range - The range is the easiest dispersion of data or measure of variability\n",
    " Variance - Variance is a simple measure of dispersion. Variance measures how far each number in the dataset from the mean. \n",
    "    Standard deviation - Standard deviation is a squared root of the variance to get original values."
   ]
  },
  {
   "cell_type": "code",
   "execution_count": 21,
   "id": "111fb44e-746c-4496-a01d-0286b4a2bc7b",
   "metadata": {},
   "outputs": [
    {
     "name": "stderr",
     "output_type": "stream",
     "text": [
      "/tmp/ipykernel_70/1182272845.py:1: FutureWarning: The default value of numeric_only in DataFrame.var is deprecated. In a future version, it will default to False. In addition, specifying 'numeric_only=None' is deprecated. Select only valid columns or specify the value of numeric_only to silence this warning.\n",
      "  df.var()\n"
     ]
    },
    {
     "data": {
      "text/plain": [
       "total_bill    79.252939\n",
       "tip            1.914455\n",
       "size           0.904591\n",
       "dtype: float64"
      ]
     },
     "execution_count": 21,
     "metadata": {},
     "output_type": "execute_result"
    }
   ],
   "source": [
    "df.var() "
   ]
  },
  {
   "cell_type": "code",
   "execution_count": 22,
   "id": "e2cb73e9-1add-4ef7-aa48-2746304c6393",
   "metadata": {},
   "outputs": [
    {
     "data": {
      "text/plain": [
       "1.7885814036548633"
      ]
     },
     "execution_count": 22,
     "metadata": {},
     "output_type": "execute_result"
    }
   ],
   "source": [
    "np.std(data)"
   ]
  },
  {
   "cell_type": "code",
   "execution_count": null,
   "id": "470a02ec-9309-4b19-92d2-d6db94f89083",
   "metadata": {},
   "outputs": [],
   "source": [
    "6 a diagram representing mathematical or logical sets pictorially as circles or closed curves within an enclosing rectangle (the universal set), common elements of the sets being represented by intersections of the circles"
   ]
  },
  {
   "cell_type": "code",
   "execution_count": 34,
   "id": "69f2e634-e1ae-40b3-b3c0-c71cb5ee6b82",
   "metadata": {},
   "outputs": [],
   "source": [
    "A = {2,3,4,5,6,7}\n",
    "B = {0,2,6,8,10} "
   ]
  },
  {
   "cell_type": "code",
   "execution_count": 35,
   "id": "93bb39a4-9aaf-4411-9324-a45537513f45",
   "metadata": {},
   "outputs": [
    {
     "name": "stdout",
     "output_type": "stream",
     "text": [
      "Intersection : {2, 6}\n"
     ]
    }
   ],
   "source": [
    "print(\"Intersection :\", A & B) "
   ]
  },
  {
   "cell_type": "code",
   "execution_count": 36,
   "id": "fb1f4381-e9d9-406a-9c02-715492395058",
   "metadata": {},
   "outputs": [
    {
     "name": "stdout",
     "output_type": "stream",
     "text": [
      "Union : {0, 2, 3, 4, 5, 6, 7, 8, 10}\n"
     ]
    }
   ],
   "source": [
    "print(\"Union :\", A | B) "
   ]
  },
  {
   "cell_type": "code",
   "execution_count": null,
   "id": "d8d9c78e-7892-4d60-b40f-2990e360b27f",
   "metadata": {},
   "outputs": [],
   "source": [
    "8 Skewness is a measurement of the distortion of symmetrical distribution or asymmetry in a data set."
   ]
  },
  {
   "cell_type": "code",
   "execution_count": null,
   "id": "9ba17125-1d06-48f4-9b14-8d3affbddefd",
   "metadata": {},
   "outputs": [],
   "source": [
    "9  Right skewed distributions indicate that majority of the data is located on the left side of the graph, and the mean, or average, is greater than the median"
   ]
  },
  {
   "cell_type": "code",
   "execution_count": null,
   "id": "87983a10-848b-4891-b4c2-a6d75e3c5380",
   "metadata": {},
   "outputs": [],
   "source": [
    "9  Right skewed distributions indicate that majority of the data is located on the left side of the graph, and the mean, or average, is greater than the median"
   ]
  },
  {
   "cell_type": "code",
   "execution_count": null,
   "id": "68bd0044-5c88-469e-8057-35a5fce9082c",
   "metadata": {},
   "outputs": [],
   "source": [
    "10 Covariance is an indicator of the extent to which 2 random variables are dependent on each other. A higher number denotes higher dependency. Correlation is a statistical measure that indicates how strongly two variables are related. "
   ]
  },
  {
   "cell_type": "code",
   "execution_count": null,
   "id": "0a88d9b6-4d69-426c-b74d-5d691cebef2a",
   "metadata": {},
   "outputs": [],
   "source": [
    "11 x̄ = ( Σ xi ) ÷ n."
   ]
  },
  {
   "cell_type": "code",
   "execution_count": null,
   "id": "0921298c-890a-4f34-b1b4-8f33d01f3df5",
   "metadata": {},
   "outputs": [],
   "source": [
    "12 Any normal distribution has a graph that is perfectly symmetric about a vertical line through its peak. "
   ]
  },
  {
   "cell_type": "code",
   "execution_count": null,
   "id": "4a189785-c2a6-43c1-84ec-6bae53d3ae08",
   "metadata": {},
   "outputs": [],
   "source": [
    "13  Covariance is an indicator of the extent to which 2 random variables are dependent on each other. A higher number denotes higher dependency. Correlation is a statistical measure that indicates how strongly two variables are related. "
   ]
  },
  {
   "cell_type": "code",
   "execution_count": null,
   "id": "21143472-b9ed-4f9e-b23f-0636b41e901a",
   "metadata": {},
   "outputs": [],
   "source": [
    "14 Outliers are numbers in a data set that are vastly larger or smaller than the other values in the set. Mean, median and mode are measures of central tendency. Mean is the only measure of central tendency that is always affected by an outlier."
   ]
  },
  {
   "cell_type": "code",
   "execution_count": 37,
   "id": "e0f76b1c-1ef5-4748-b3b0-26484d0fdd00",
   "metadata": {},
   "outputs": [],
   "source": [
    "A ={1,2,4,7,8,100}"
   ]
  },
  {
   "cell_type": "code",
   "execution_count": null,
   "id": "44312122-6c58-48e3-8845-35084c3a365f",
   "metadata": {},
   "outputs": [],
   "source": []
  }
 ],
 "metadata": {
  "kernelspec": {
   "display_name": "Python 3 (ipykernel)",
   "language": "python",
   "name": "python3"
  },
  "language_info": {
   "codemirror_mode": {
    "name": "ipython",
    "version": 3
   },
   "file_extension": ".py",
   "mimetype": "text/x-python",
   "name": "python",
   "nbconvert_exporter": "python",
   "pygments_lexer": "ipython3",
   "version": "3.10.8"
  }
 },
 "nbformat": 4,
 "nbformat_minor": 5
}
