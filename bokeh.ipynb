{
 "cells": [
  {
   "cell_type": "code",
   "execution_count": null,
   "id": "e66a3c0c-f896-4c14-a34e-941d074cb46a",
   "metadata": {},
   "outputs": [],
   "source": [
    "1 # First, we will import the required modules.\n",
    "from bokeh. plotting import figure as fig.\n",
    "from bokeh. plotting import output_notebook as ON.\n",
    "from bokeh. plotting import show.\n",
    "# output to the notebook.\n",
    "ON()\n",
    "# creating figure.\n",
    "plot1 = fig(plot_width = 500, plot_height = 500, title = \"Scatter Markers\")\n"
   ]
  },
  {
   "cell_type": "code",
   "execution_count": null,
   "id": "65655d9d-534a-4391-9393-6753385034da",
   "metadata": {},
   "outputs": [],
   "source": [
    "2 Glyphs are the building blocks of Bokeh visualizations.\n",
    " We can add glyph in bockeh plot by using the image() , image_rgba() , and image_url().\n",
    "    "
   ]
  },
  {
   "cell_type": "code",
   "execution_count": null,
   "id": "df1a6931-be94-4ca1-80fa-ab7aaa951cc0",
   "metadata": {},
   "outputs": [],
   "source": [
    "3 setting labels for your axes.\n",
    "styling the numbers displayed with your axes.\n",
    "defining colors and other layout properties for the axes themselves.\n"
   ]
  },
  {
   "cell_type": "code",
   "execution_count": null,
   "id": "23e8b2fd-7aca-453b-813a-95b876ed723f",
   "metadata": {},
   "outputs": [],
   "source": [
    "4 The Bokeh server is a component of Bokeh that allows you to build interactive web applications that are connected to Python code running on a server.\n",
    " Bokeh server is to create Bokeh applications and serve them with the bokeh serve command."
   ]
  },
  {
   "cell_type": "code",
   "execution_count": null,
   "id": "960aabc4-887b-44d2-86b6-d20926f96624",
   "metadata": {},
   "outputs": [],
   "source": [
    "5 "
   ]
  },
  {
   "cell_type": "code",
   "execution_count": null,
   "id": "e492ace0-5da8-4dfa-bcbc-b1dd6a034a05",
   "metadata": {},
   "outputs": [],
   "source": []
  },
  {
   "cell_type": "code",
   "execution_count": null,
   "id": "fc59528c-bd7d-4d3c-80b0-da8789296fd6",
   "metadata": {},
   "outputs": [],
   "source": []
  }
 ],
 "metadata": {
  "kernelspec": {
   "display_name": "Python 3 (ipykernel)",
   "language": "python",
   "name": "python3"
  },
  "language_info": {
   "codemirror_mode": {
    "name": "ipython",
    "version": 3
   },
   "file_extension": ".py",
   "mimetype": "text/x-python",
   "name": "python",
   "nbconvert_exporter": "python",
   "pygments_lexer": "ipython3",
   "version": "3.10.8"
  }
 },
 "nbformat": 4,
 "nbformat_minor": 5
}
