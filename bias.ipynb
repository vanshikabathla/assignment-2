{
 "cells": [
  {
   "cell_type": "code",
   "execution_count": null,
   "id": "f4430a54-515f-4206-a645-76b39f6fa468",
   "metadata": {},
   "outputs": [],
   "source": [
    "1 Overfitting means that your model makes not accurate predictions. \n",
    "Underfitting means that your model makes accurate, but initially incorrect predictions.\n",
    " for overfitting it is unable to generalize well to new data. If a model cannot generalize well to new data, then it will not be able to perform the classification or prediction tasks that it was intended for.\n",
    "    for underfitting If a model cannot generalize well to new data, then it cannot be leveraged for classification or prediction tasks.\n"
   ]
  },
  {
   "cell_type": "code",
   "execution_count": null,
   "id": "0862f3a0-4280-4fbb-a845-2422cae97b75",
   "metadata": {},
   "outputs": [],
   "source": [
    "2 You can prevent overfitting by diversifying and scaling your training data set or using some other data science strategies, like those given below.\n",
    "Early stopping. Early stopping pauses the training phase before the machine learning model learns the noise in the data. ...\n",
    "Pruning. \n",
    "Regularization. "
   ]
  },
  {
   "cell_type": "code",
   "execution_count": null,
   "id": "9b06400e-ba7b-4079-b106-aa7f206e29e0",
   "metadata": {},
   "outputs": [],
   "source": [
    "3 Underfitting means that your model makes accurate, but initially incorrect predictions.\n",
    "where a data model is unable to capture the relationship between the input and output variables accurately, generating a high error rate on both the training set and unseen data."
   ]
  },
  {
   "cell_type": "code",
   "execution_count": null,
   "id": "585e9884-4d7d-4403-9a14-2ceb3ef63a39",
   "metadata": {},
   "outputs": [],
   "source": [
    "4  the bias–variance tradeoff is the property of a model that the variance of the parameter estimated across samples can be reduced by increasing the bias in the estimated parameters\n",
    "A model with a high bias error underfits data and makes very simplistic assumptions on it. A model with a high variance error overfits the data and learns too much from it. A good model is where both Bias and Variance errors are balanced."
   ]
  },
  {
   "cell_type": "code",
   "execution_count": null,
   "id": "1919d744-5d1e-4dc0-8f2c-14fbb19218fb",
   "metadata": {},
   "outputs": [],
   "source": [
    "5 We can determine whether a predictive model is underfitting or overfitting the training data by looking at the prediction error on the training data and the evaluation data. Your model is underfitting the training data when the model performs poorly on the training data.\n"
   ]
  },
  {
   "cell_type": "code",
   "execution_count": null,
   "id": "c15e15a8-26e9-45ea-b79b-86cd8ed8f44e",
   "metadata": {},
   "outputs": [],
   "source": [
    "6 Bias is the simplifying assumptions made by the model to make the target function easier to approximate. Variance is the amount that the estimate of the target function will change given different training data. Trade-off is tension between the error introduced by the bias and the variance.\n",
    "example : Decision Trees, k-Nearest Neighbors and Support Vector Machines.\n"
   ]
  },
  {
   "cell_type": "code",
   "execution_count": null,
   "id": "95fac1c5-595c-49bc-9ce6-3efac24ceaa1",
   "metadata": {},
   "outputs": [],
   "source": [
    "7 Regularization refers to techniques that are used to calibrate machine learning models in order to minimize the adjusted loss function and prevent overfitting or underfitting.\n",
    "In other words, this technique discourages learning a more complex or flexible model, avoiding the risk of Overfitting.\n"
   ]
  },
  {
   "cell_type": "code",
   "execution_count": null,
   "id": "528e87de-ff59-486d-8009-663ad84db49e",
   "metadata": {},
   "outputs": [],
   "source": []
  },
  {
   "cell_type": "code",
   "execution_count": null,
   "id": "a5cfc753-7d84-4bfa-87f0-e0092b6a8803",
   "metadata": {},
   "outputs": [],
   "source": []
  },
  {
   "cell_type": "code",
   "execution_count": null,
   "id": "481b96f0-199d-4ffc-b30c-6770072c9974",
   "metadata": {},
   "outputs": [],
   "source": []
  }
 ],
 "metadata": {
  "kernelspec": {
   "display_name": "Python 3 (ipykernel)",
   "language": "python",
   "name": "python3"
  },
  "language_info": {
   "codemirror_mode": {
    "name": "ipython",
    "version": 3
   },
   "file_extension": ".py",
   "mimetype": "text/x-python",
   "name": "python",
   "nbconvert_exporter": "python",
   "pygments_lexer": "ipython3",
   "version": "3.10.8"
  }
 },
 "nbformat": 4,
 "nbformat_minor": 5
}
