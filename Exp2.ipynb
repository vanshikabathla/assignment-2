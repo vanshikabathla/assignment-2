{
 "cells": [
  {
   "cell_type": "code",
   "execution_count": null,
   "id": "ecf424af-ff42-4666-a6c1-beb650a1ae59",
   "metadata": {},
   "outputs": [],
   "source": [
    "1 Having multiple exception classes allow the programmes to be specific in their claus \n",
    " An exception class can carry information about the error that caused the exception"
   ]
  },
  {
   "cell_type": "code",
   "execution_count": null,
   "id": "94bc87a4-22b7-4202-89d1-9361d3508962",
   "metadata": {},
   "outputs": [],
   "source": [
    "3 Copying the problems\n",
    "  Writing the wrong no.\n",
    "Dropping the negative sign  "
   ]
  },
  {
   "cell_type": "code",
   "execution_count": null,
   "id": "c2dbf764-2c1b-4ade-9f4a-495dbcb69419",
   "metadata": {},
   "outputs": [],
   "source": [
    "4 Lookup error forms the base class for all exception that are raised when \n",
    " the index and key is not found for a sequence or dictionary respectively"
   ]
  },
  {
   "cell_type": "code",
   "execution_count": 5,
   "id": "d7d5a79d-278f-4efb-a81d-c8624a081ed0",
   "metadata": {},
   "outputs": [
    {
     "name": "stdout",
     "output_type": "stream",
     "text": [
      "'key2'\n"
     ]
    }
   ],
   "source": [
    "try :\n",
    "    d = {\"key\" :\"sudh\", 1 : [2,3,4,5]}\n",
    "    print(d[\"key2\"])\n",
    "except KeyError as e :\n",
    "    print(e)"
   ]
  },
  {
   "cell_type": "code",
   "execution_count": 6,
   "id": "ee71959e-86ae-47f9-903a-6a26d240db74",
   "metadata": {},
   "outputs": [
    {
     "name": "stdout",
     "output_type": "stream",
     "text": [
      "list index out of range\n"
     ]
    }
   ],
   "source": [
    "try :\n",
    "    l = [2,3,4,5]\n",
    "    print(l[6])\n",
    "except IndexError as e :\n",
    "    print(e)"
   ]
  },
  {
   "cell_type": "code",
   "execution_count": null,
   "id": "aff5787b-b144-4c19-898c-547097b1890b",
   "metadata": {},
   "outputs": [],
   "source": [
    "5 ImportError is raised when a import statement has trouble successfully importing the sprecific module.\n",
    " The module method has been used but forget to include main module we need to "
   ]
  },
  {
   "cell_type": "code",
   "execution_count": null,
   "id": "ec563b7d-d069-42e8-9071-67aa9dc670f3",
   "metadata": {},
   "outputs": [],
   "source": []
  },
  {
   "cell_type": "code",
   "execution_count": null,
   "id": "832b4f37-a8ae-4ddf-95d5-71d405095a38",
   "metadata": {},
   "outputs": [],
   "source": []
  }
 ],
 "metadata": {
  "kernelspec": {
   "display_name": "Python 3 (ipykernel)",
   "language": "python",
   "name": "python3"
  },
  "language_info": {
   "codemirror_mode": {
    "name": "ipython",
    "version": 3
   },
   "file_extension": ".py",
   "mimetype": "text/x-python",
   "name": "python",
   "nbconvert_exporter": "python",
   "pygments_lexer": "ipython3",
   "version": "3.10.8"
  }
 },
 "nbformat": 4,
 "nbformat_minor": 5
}
