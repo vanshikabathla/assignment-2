{
 "cells": [
  {
   "cell_type": "code",
   "execution_count": 5,
   "id": "8270fd2e-6df0-4709-bb84-68af763a90a3",
   "metadata": {},
   "outputs": [
    {
     "name": "stdout",
     "output_type": "stream",
     "text": [
      "C\n"
     ]
    }
   ],
   "source": [
    "marks=75\n",
    "if marks>90:\n",
    "    print(\"A\") \n",
    "elif marks>80 and marks<=90:\n",
    "    print(\"B\") \n",
    "elif marks>=60 and marks<=80:\n",
    "    print(\"C\") \n",
    "elif marjs<60:\n",
    "    print(\"D\") "
   ]
  },
  {
   "cell_type": "code",
   "execution_count": 6,
   "id": "9b41441a-2c95-4625-a6fa-f6fa2efc132e",
   "metadata": {},
   "outputs": [
    {
     "name": "stdout",
     "output_type": "stream",
     "text": [
      "you will pay 10% tax\n"
     ]
    }
   ],
   "source": [
    "CostPrice = 65000\n",
    "if CostPrice>100000:\n",
    "    print(\"you will pay 15% tax\") \n",
    "elif CostPrice>50000 and CostPrice<=100000:\n",
    "    print(\"you will pay 10% tax\") \n",
    "elif CostPrice<=50000:\n",
    "    print(\"you will pay 5% tax\") "
   ]
  },
  {
   "cell_type": "code",
   "execution_count": 7,
   "id": "0edd2c7e-cb1e-4e3a-a340-47be6f54154a",
   "metadata": {},
   "outputs": [],
   "source": [
    "l = {\"Delhi\":\"Red Fort\", \"Agra\":\"Taj Mahal\", \"Jaipur\":\"Jal Mahal\"}"
   ]
  },
  {
   "cell_type": "code",
   "execution_count": 8,
   "id": "38af4f07-e0fa-477d-a317-36b03cee2e74",
   "metadata": {},
   "outputs": [
    {
     "name": "stdout",
     "output_type": "stream",
     "text": [
      "key: Delhi value: Red Fort\n",
      "key: Agra value: Taj Mahal\n",
      "key: Jaipur value: Jal Mahal\n"
     ]
    }
   ],
   "source": [
    "for key in l:\n",
    "    print(\"key:\",key,\"value:\",l[key])  "
   ]
  },
  {
   "cell_type": "code",
   "execution_count": 9,
   "id": "6debf2c2-a08d-4011-b486-af5bcf7361e6",
   "metadata": {},
   "outputs": [
    {
     "name": "stdout",
     "output_type": "stream",
     "text": [
      "0.3333333333333333\n",
      "0.6666666666666666\n",
      "1.3333333333333333\n",
      "1.6666666666666667\n",
      "2.3333333333333335\n",
      "2.6666666666666665\n"
     ]
    }
   ],
   "source": [
    "for i in range(1,10):\n",
    "    if i%3==0:\n",
    "        continue\n",
    "    print(i/3)"
   ]
  },
  {
   "cell_type": "code",
   "execution_count": null,
   "id": "b72f51a6-5c1d-48ec-90e9-313166d3f905",
   "metadata": {},
   "outputs": [],
   "source": [
    "The while loop is used to repeat a section of code an unknown number of times until a specific condition is met.\n",
    "For example, say we want to know how many times a given number can be divided by 2 before it is less than or equal to 1."
   ]
  },
  {
   "cell_type": "code",
   "execution_count": 1,
   "id": "db3ae6de-92fb-466a-9eac-f4803fa32522",
   "metadata": {},
   "outputs": [
    {
     "name": "stdout",
     "output_type": "stream",
     "text": [
      "10\n",
      "9\n",
      "8\n",
      "7\n",
      "6\n",
      "5\n",
      "4\n",
      "3\n",
      "2\n",
      "1\n"
     ]
    }
   ],
   "source": [
    "i = 10\n",
    "while i > 0:\n",
    "    print(i)\n",
    "    i -=1"
   ]
  },
  {
   "cell_type": "code",
   "execution_count": 2,
   "id": "4a842411-3171-4b3e-821d-d3f4edc17571",
   "metadata": {},
   "outputs": [
    {
     "name": "stdout",
     "output_type": "stream",
     "text": [
      "10\n",
      "9\n",
      "8\n",
      "7\n",
      "6\n",
      "5\n",
      "4\n",
      "3\n",
      "2\n",
      "1\n"
     ]
    }
   ],
   "source": [
    "i = 10\n",
    "while i > 0:\n",
    "    print(i)\n",
    "    i -=1"
   ]
  },
  {
   "cell_type": "code",
   "execution_count": null,
   "id": "b4942f2b-dcc4-40ac-8f8e-4b4cf507c69d",
   "metadata": {},
   "outputs": [],
   "source": []
  }
 ],
 "metadata": {
  "kernelspec": {
   "display_name": "Python 3 (ipykernel)",
   "language": "python",
   "name": "python3"
  },
  "language_info": {
   "codemirror_mode": {
    "name": "ipython",
    "version": 3
   },
   "file_extension": ".py",
   "mimetype": "text/x-python",
   "name": "python",
   "nbconvert_exporter": "python",
   "pygments_lexer": "ipython3",
   "version": "3.10.8"
  }
 },
 "nbformat": 4,
 "nbformat_minor": 5
}
