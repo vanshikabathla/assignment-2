{
 "cells": [
  {
   "cell_type": "code",
   "execution_count": null,
   "id": "a5331830-1eab-4cd0-88dd-247a976a6e90",
   "metadata": {},
   "outputs": [],
   "source": [
    " The Probability Density Function(PDF) defines the probability function representing the density of a continuous random variable lying between a specific range"
   ]
  },
  {
   "cell_type": "code",
   "execution_count": null,
   "id": "e79abb57-67b8-48da-9504-abc41380db95",
   "metadata": {},
   "outputs": [],
   "source": [
    "There are two types of probability distributions: Discrete probability distributions. Continuous probability distributions."
   ]
  },
  {
   "cell_type": "code",
   "execution_count": null,
   "id": "fe445729-d631-4dee-bd94-aa26a4696745",
   "metadata": {},
   "outputs": [],
   "source": []
  },
  {
   "cell_type": "code",
   "execution_count": null,
   "id": "a3d89c32-a108-4c12-b2dd-b0a4bea5b18a",
   "metadata": {},
   "outputs": [],
   "source": [
    " The properties of the binomial distribution are: There are two possible outcomes: true or false, success or failure, yes or no.\n",
    "    example - coin toss"
   ]
  },
  {
   "cell_type": "code",
   "execution_count": null,
   "id": "bfaf9824-ce71-4870-8b83-b8ffe2717bbb",
   "metadata": {},
   "outputs": [],
   "source": [
    " Binomial distribution is the one in which the number of outcomes are only two, that is success or failure. Example of binomial distribution: Coin toss.\n",
    "Poisson distribution: Poisson distribution is the one in which the number of possible outcomes has no limits.6"
   ]
  },
  {
   "cell_type": "code",
   "execution_count": null,
   "id": "d0b99438-04b5-4483-a23a-24dba64434b2",
   "metadata": {},
   "outputs": [],
   "source": [
    "The mean of the binomial distribution is np, and the variance of the binomial distribution is np (1 − p). \n",
    "The mean and the variance of the Poisson distribution are the same"
   ]
  },
  {
   "cell_type": "code",
   "execution_count": null,
   "id": "0696ebda-f55f-4e49-bfba-a0e13a7734e1",
   "metadata": {},
   "outputs": [],
   "source": [
    " on zero "
   ]
  },
  {
   "cell_type": "code",
   "execution_count": null,
   "id": "38c4bd3c-fc57-4f4b-b140-e045f3ce6ab2",
   "metadata": {},
   "outputs": [],
   "source": []
  },
  {
   "cell_type": "code",
   "execution_count": null,
   "id": "18865823-47b7-48d1-a0fb-98402d0ace25",
   "metadata": {},
   "outputs": [],
   "source": []
  }
 ],
 "metadata": {
  "kernelspec": {
   "display_name": "Python 3 (ipykernel)",
   "language": "python",
   "name": "python3"
  },
  "language_info": {
   "codemirror_mode": {
    "name": "ipython",
    "version": 3
   },
   "file_extension": ".py",
   "mimetype": "text/x-python",
   "name": "python",
   "nbconvert_exporter": "python",
   "pygments_lexer": "ipython3",
   "version": "3.10.8"
  }
 },
 "nbformat": 4,
 "nbformat_minor": 5
}
