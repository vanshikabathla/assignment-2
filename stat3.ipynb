{
 "cells": [
  {
   "cell_type": "code",
   "execution_count": null,
   "id": "00beea60-b7f4-421d-9142-216adfdf1d29",
   "metadata": {},
   "outputs": [],
   "source": [
    "1  A probability mass function (pmf) is a function over the sample space of a discrete random variable X which gives the probability that X is equal to a certain value. ex- Rolling of Dice\n",
    "Probability density function (PDF) is a statistical expression that defines a probability distribution (the likelihood of an outcome) for a discrete random variable (e.g., a stock or ETF) as opposed to a continuous random variable.\n",
    "example - Height of a student in class room"
   ]
  },
  {
   "cell_type": "code",
   "execution_count": null,
   "id": "4c251f22-3891-4852-9746-1149ef46599d",
   "metadata": {},
   "outputs": [],
   "source": [
    "2 The Cumulative Distribution Function (CDF) of a real-valued random variable X, evaluated at x, is the probability function that X will take a value less than or equal to x. \n",
    "It is used to describe the probability distribution of random variables in a table."
   ]
  },
  {
   "cell_type": "code",
   "execution_count": null,
   "id": "e15a1f43-bb41-4eef-9210-2823c75a21b1",
   "metadata": {},
   "outputs": [],
   "source": [
    "3 example - height , rolling a dice, tossing a coin\n",
    "parameter - mean , variance"
   ]
  },
  {
   "cell_type": "code",
   "execution_count": null,
   "id": "cf303efd-2f6e-4b8f-aac3-033020fa30f5",
   "metadata": {},
   "outputs": [],
   "source": [
    "4 The normal distribution is an important probability distribution in math and statistics because many continuous data in nature and psychology display this bell-shaped curve when compiled and graphed.\n",
    " example - height , rolling a dice, tossing a coin"
   ]
  },
  {
   "cell_type": "code",
   "execution_count": null,
   "id": "0d246759-7b4d-4641-a251-92a187e82371",
   "metadata": {},
   "outputs": [],
   "source": [
    "5 The Bernoulli distribution is a special case of the binomial distribution where a single trial is conducted.\n",
    "example - tossing a coin \n",
    "The Bernoulli distribution represents the success or failure of a single Bernoulli trial. The Binomial Distribution represents the number of successes and failures in n independent Bernoulli trials for some given value of n.\n"
   ]
  },
  {
   "cell_type": "code",
   "execution_count": null,
   "id": "2f4fee0e-6ebe-4f0d-96bb-7516a114d199",
   "metadata": {},
   "outputs": [],
   "source": []
  },
  {
   "cell_type": "code",
   "execution_count": null,
   "id": "6c57310c-4ea9-4327-904a-1109d7ea3aab",
   "metadata": {},
   "outputs": [],
   "source": [
    "7 In statistics, uniform distribution refers to a type of probability distribution in which all outcomes are equally likely.\n",
    "ex- Adeck of cards"
   ]
  },
  {
   "cell_type": "code",
   "execution_count": null,
   "id": "afb4e2ba-f4ef-4929-9f19-9ab897cf9e27",
   "metadata": {},
   "outputs": [],
   "source": [
    "8 The z-score shows the number of standard deviations a given data point lies from the mean.\n",
    " standard deviation must be calculated first because the z-score uses it to communicate a data point's variabili"
   ]
  },
  {
   "cell_type": "code",
   "execution_count": null,
   "id": "bccaebe1-8260-44d4-9750-8837d66c587b",
   "metadata": {},
   "outputs": [],
   "source": [
    "9 The central limit theorem says that the sampling distribution of the mean will always be normally distributed, as long as the sample size is large enough.\n",
    "The central limit theorem is useful when analyzing large data sets because it allows one to assume that the sampling distribution of the mean will be normally-distributed in most cases."
   ]
  },
  {
   "cell_type": "code",
   "execution_count": null,
   "id": "db137ec6-df68-4c1f-828f-eae149f92ec5",
   "metadata": {},
   "outputs": [],
   "source": [
    "10 The data must adhere to the randomization rule. It needs to be sampled at random."
   ]
  },
  {
   "cell_type": "code",
   "execution_count": null,
   "id": "ec2bfc29-37b9-4ec4-8e91-3937696cd695",
   "metadata": {},
   "outputs": [],
   "source": []
  },
  {
   "cell_type": "code",
   "execution_count": null,
   "id": "61e46738-e588-4e06-b826-6f1a20d18a5e",
   "metadata": {},
   "outputs": [],
   "source": []
  },
  {
   "cell_type": "code",
   "execution_count": null,
   "id": "99c52b6b-db1f-4741-8dd8-7bd57bf69e44",
   "metadata": {},
   "outputs": [],
   "source": []
  },
  {
   "cell_type": "code",
   "execution_count": null,
   "id": "9caafe2d-d15e-4adb-a6c4-3240c1e1b7a3",
   "metadata": {},
   "outputs": [],
   "source": []
  }
 ],
 "metadata": {
  "kernelspec": {
   "display_name": "Python 3 (ipykernel)",
   "language": "python",
   "name": "python3"
  },
  "language_info": {
   "codemirror_mode": {
    "name": "ipython",
    "version": 3
   },
   "file_extension": ".py",
   "mimetype": "text/x-python",
   "name": "python",
   "nbconvert_exporter": "python",
   "pygments_lexer": "ipython3",
   "version": "3.10.8"
  }
 },
 "nbformat": 4,
 "nbformat_minor": 5
}
