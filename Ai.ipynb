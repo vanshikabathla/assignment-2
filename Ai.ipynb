{
 "cells": [
  {
   "cell_type": "code",
   "execution_count": null,
   "id": "42a0a65b-41c5-4e19-8e82-c9c5226d6cda",
   "metadata": {},
   "outputs": [],
   "source": [
    "1 \n",
    "a) Artificial Intelligence - Artificial intelligence is the simulation of human intelligence processes by machines, especially computer systems. \n",
    "b) Machine Learning - Machine learning is a subfield of artificial intelligence, which is broadly defined as the capability of a machine to imitate intelligent human behavior.\n",
    "c) Deep Learning - Deep learning is a method in artificial intelligence (AI) that teaches computers to process data in a way that is inspired by the human brain"
   ]
  },
  {
   "cell_type": "code",
   "execution_count": null,
   "id": "498b9dbf-5d79-4f21-b108-9772851c136d",
   "metadata": {},
   "outputs": [],
   "source": [
    "2 Supervised learning, also known as supervised machine learning, is a subcategory of machine learning and artificial intelligence.\n",
    "example - text classification problems"
   ]
  },
  {
   "cell_type": "code",
   "execution_count": null,
   "id": "287e417a-ec2f-4828-8043-e2572923e9f2",
   "metadata": {},
   "outputs": [],
   "source": [
    "3 Unsupervised learning, also known as unsupervised machine learning, uses machine learning algorithms to analyze and cluster unlabeled datasets.\n",
    "example - dimension reduction and clustering."
   ]
  },
  {
   "cell_type": "code",
   "execution_count": null,
   "id": "d8011b6c-d01d-4659-be5d-8459a33820af",
   "metadata": {},
   "outputs": [],
   "source": [
    "4 \n",
    "Artificial Intelligence - Artificial intelligence is the simulation of human intelligence processes by machines, especially computer systems. \n",
    " Machine Learning - Machine learning is a subfield of artificial intelligence, which is broadly defined as the capability of a machine to imitate intelligent human behavior.\n",
    "    Deep Learning - Deep learning is a method in artificial intelligence (AI) that teaches computers to process data in a way that is inspired by the human brain\n",
    "    Data Science - Data science is the study of data to extract meaningful insights for business. It is a multidisciplinary approach that combines principles and practices from the fields of mathematics, statistics, artificial intelligence, and computer engineering to analyze large amounts of data.\n"
   ]
  },
  {
   "cell_type": "code",
   "execution_count": null,
   "id": "ccdde025-27be-4fef-81a8-1946806e61e8",
   "metadata": {},
   "outputs": [],
   "source": [
    "5 Supervised learning requires labeled data for training\n",
    " Unsupervised learning requires unlabeled data for training\n",
    "    Semi-Supervised learning uses both labeled and unlabeled data for training"
   ]
  },
  {
   "cell_type": "code",
   "execution_count": null,
   "id": "4b46fd4b-4542-4ab1-8617-4fa0b024b717",
   "metadata": {},
   "outputs": [],
   "source": [
    "6 Train-Valid-Test split is a technique to evaluate the performance of your machine learning model — classification or regression alike. \n",
    "In training we will train the module \n",
    "In Validation we do hyper tuning of a model \n",
    "In Test we test the module"
   ]
  },
  {
   "cell_type": "code",
   "execution_count": null,
   "id": "42f643ae-a57c-4283-afe5-bf14c3a19052",
   "metadata": {},
   "outputs": [],
   "source": [
    "7 Unsupervised techniques assign each data point a score instead of a label"
   ]
  },
  {
   "cell_type": "code",
   "execution_count": null,
   "id": "d368b1ae-3a8d-46da-a1c2-cab73f62a399",
   "metadata": {},
   "outputs": [],
   "source": [
    "8 The most commonly used Supervised Learning algorithms are decision tree, logistic regression, linear regression, support vector machine.\n",
    "The most commonly used Unsupervised Learning algorithms are k-means clustering, hierarchical clustering, and apriori algorithm."
   ]
  },
  {
   "cell_type": "code",
   "execution_count": null,
   "id": "bb2ec5e2-029c-4e51-b1d9-dbbf80449ba2",
   "metadata": {},
   "outputs": [],
   "source": []
  },
  {
   "cell_type": "code",
   "execution_count": null,
   "id": "96795a27-876f-40ad-a993-e4d6d5cb8f5a",
   "metadata": {},
   "outputs": [],
   "source": []
  }
 ],
 "metadata": {
  "kernelspec": {
   "display_name": "Python 3 (ipykernel)",
   "language": "python",
   "name": "python3"
  },
  "language_info": {
   "codemirror_mode": {
    "name": "ipython",
    "version": 3
   },
   "file_extension": ".py",
   "mimetype": "text/x-python",
   "name": "python",
   "nbconvert_exporter": "python",
   "pygments_lexer": "ipython3",
   "version": "3.10.8"
  }
 },
 "nbformat": 4,
 "nbformat_minor": 5
}
