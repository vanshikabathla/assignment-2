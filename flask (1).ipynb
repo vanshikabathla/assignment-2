{
 "cells": [
  {
   "cell_type": "code",
   "execution_count": null,
   "id": "067133f8-e62c-4d80-94a5-31c708a323e9",
   "metadata": {},
   "outputs": [],
   "source": [
    "1 A GET method send message, and the server returns data. \n",
    "POST method send HTML form data to the server. "
   ]
  },
  {
   "cell_type": "code",
   "execution_count": null,
   "id": "0ff227ec-a8d5-4498-9d1a-74b93b5d3ae5",
   "metadata": {},
   "outputs": [],
   "source": [
    "2 The Request, in Flask, is an object that contains all the data sent from the Client to Server. "
   ]
  },
  {
   "cell_type": "code",
   "execution_count": null,
   "id": "d8c12475-bd49-40a9-8d2f-2dfa4f774669",
   "metadata": {},
   "outputs": [],
   "source": [
    "3 The redirect() function allows us to redirect a user to the URL of our choice."
   ]
  },
  {
   "cell_type": "code",
   "execution_count": null,
   "id": "68a3e86d-3fb7-4945-abd4-149e71a86b4f",
   "metadata": {},
   "outputs": [],
   "source": [
    "4 Templates are files that contain static data as well as placeholders for dynamic data."
   ]
  },
  {
   "cell_type": "code",
   "execution_count": null,
   "id": "d2689eed-2ffe-4194-ba8e-eeddfe548e7a",
   "metadata": {},
   "outputs": [],
   "source": []
  }
 ],
 "metadata": {
  "kernelspec": {
   "display_name": "Python 3 (ipykernel)",
   "language": "python",
   "name": "python3"
  },
  "language_info": {
   "codemirror_mode": {
    "name": "ipython",
    "version": 3
   },
   "file_extension": ".py",
   "mimetype": "text/x-python",
   "name": "python",
   "nbconvert_exporter": "python",
   "pygments_lexer": "ipython3",
   "version": "3.10.8"
  }
 },
 "nbformat": 4,
 "nbformat_minor": 5
}
