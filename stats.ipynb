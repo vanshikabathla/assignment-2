{
 "cells": [
  {
   "cell_type": "code",
   "execution_count": null,
   "id": "e49d3d37-8320-4c7d-aa67-1d9d0527f4d0",
   "metadata": {},
   "outputs": [],
   "source": [
    "1 Statiscs is the science of collecting, organizing, and analysing the data."
   ]
  },
  {
   "cell_type": "code",
   "execution_count": null,
   "id": "15c92882-53ed-45a7-a191-5d52b17b35bc",
   "metadata": {},
   "outputs": [],
   "source": [
    "2 There are 2 types of statistics\n",
    "1 Descriptive statistics- It consist of organising and summarising the data ex-measure central tendency\n",
    "2 Infrential statistics - It consist of using data you have measured to form conclusion ex - sample data , population data"
   ]
  },
  {
   "cell_type": "code",
   "execution_count": null,
   "id": "e3b533ab-99dd-4a1b-900c-85ca4485aa0c",
   "metadata": {},
   "outputs": [],
   "source": [
    "3 There are 2 types of data \n",
    "Quantitative Data and Qualitative Data  \n",
    "Quantitative is of 2 types -\n",
    "1 Discrete data - example - no.of books, no.of bank accounts \n",
    "2 Continuousdata - example - weight,heigh\n",
    "Qualitative is also of 2 types -\n",
    "1 Nominal data - example - gender,bloodgroup\n",
    "2 Ordinal data - example - rating a product"
   ]
  },
  {
   "cell_type": "code",
   "execution_count": null,
   "id": "13c7af20-60d1-42a5-a424-97b8daeaf1ad",
   "metadata": {},
   "outputs": [],
   "source": [
    "4 \n",
    "1 Qualitative\n",
    "2 Qualitative\n",
    "3 Quantitative\n",
    "4 Quantitative"
   ]
  },
  {
   "cell_type": "code",
   "execution_count": null,
   "id": "c7575c1b-93ad-489d-aa4a-1767b13684b5",
   "metadata": {},
   "outputs": [],
   "source": [
    "5 Levels of measurement, also called scales of measurement, tell you how precisely variables are recorded. In scientific research, a variable is anything that can take on different values across your data set (e.g., height or test scores)."
   ]
  },
  {
   "cell_type": "code",
   "execution_count": null,
   "id": "8b282d2a-e54a-4f4b-af9c-c9b99745c6a1",
   "metadata": {},
   "outputs": [],
   "source": [
    "6 It is important to understand the level of measurement of variables in research, because the level of measurement determines the type of statistical analysis that can be conducted, and, therefore, the type of conclusions that can be drawn from the research.\n",
    "For example, an interval level of measurement could be the measurement of anxiety in a student between the score of 10 and 11, this interval is the same as that of a student who scores between 40 and 41.\n"
   ]
  },
  {
   "cell_type": "code",
   "execution_count": null,
   "id": "587716cd-b563-4e3c-838a-590ece5e30c3",
   "metadata": {},
   "outputs": [],
   "source": [
    "7 In Nominal data type ranking is not important and In ordinal data type ranking is important."
   ]
  },
  {
   "cell_type": "code",
   "execution_count": null,
   "id": "faf62072-c99d-4b5d-9937-d4f767c3ad85",
   "metadata": {},
   "outputs": [],
   "source": [
    "8 Histogram"
   ]
  },
  {
   "cell_type": "code",
   "execution_count": null,
   "id": "a63fc6fb-8a64-472d-a016-8a6e36911725",
   "metadata": {},
   "outputs": [],
   "source": [
    "9 1 Descriptive statistics- It consist of organising and summarising the data ex-measure central tendency\n",
    "2 Infrential statistics - It consist of using data you have measured to form conclusion ex - sample data , population data"
   ]
  },
  {
   "cell_type": "code",
   "execution_count": null,
   "id": "863237a2-6937-4427-af19-32878b0854d3",
   "metadata": {},
   "outputs": [],
   "source": [
    "10 Three measures of central tendency are the mode, the median and the mean\n"
   ]
  },
  {
   "cell_type": "code",
   "execution_count": null,
   "id": "86785302-9c2c-48ca-a319-d057d403b5c5",
   "metadata": {},
   "outputs": [],
   "source": []
  },
  {
   "cell_type": "code",
   "execution_count": null,
   "id": "5ecdedda-bd58-48e8-a67c-091507957524",
   "metadata": {},
   "outputs": [],
   "source": []
  },
  {
   "cell_type": "code",
   "execution_count": null,
   "id": "a19fc110-1cb5-4594-9223-d3b942724abd",
   "metadata": {},
   "outputs": [],
   "source": []
  },
  {
   "cell_type": "code",
   "execution_count": null,
   "id": "d4e0cca3-dd84-4885-bc15-bcd489a33b36",
   "metadata": {},
   "outputs": [],
   "source": []
  }
 ],
 "metadata": {
  "kernelspec": {
   "display_name": "Python 3 (ipykernel)",
   "language": "python",
   "name": "python3"
  },
  "language_info": {
   "codemirror_mode": {
    "name": "ipython",
    "version": 3
   },
   "file_extension": ".py",
   "mimetype": "text/x-python",
   "name": "python",
   "nbconvert_exporter": "python",
   "pygments_lexer": "ipython3",
   "version": "3.10.8"
  }
 },
 "nbformat": 4,
 "nbformat_minor": 5
}
