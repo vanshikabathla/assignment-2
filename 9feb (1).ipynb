{
 "cells": [
  {
   "cell_type": "code",
   "execution_count": 50,
   "id": "2519ed9b-4ef4-4b6f-8eb1-b5f94bf2adfc",
   "metadata": {},
   "outputs": [],
   "source": [
    "class vehicle:\n",
    "    \n",
    "    def __init__(self,name_of_vehicle, max_speed, average_of_vehicle) :\n",
    "        self.name_of_vehicle = name_of_vehicle\n",
    "        self.max_speed = max_speed\n",
    "        self.average_of_vehicle = average_of_vehicle\n",
    "    \n",
    "    def return_vehicle_details(self):\n",
    "        return self.name_of_vehicle, self.max_speed, self.average_of_vehicle"
   ]
  },
  {
   "cell_type": "code",
   "execution_count": 53,
   "id": "ff04ed1a-2c42-49d1-9ca7-88d89cf580cd",
   "metadata": {},
   "outputs": [],
   "source": [
    "A = vehicle(\"Bughati\", 70, 30)"
   ]
  },
  {
   "cell_type": "code",
   "execution_count": 54,
   "id": "44c46fe4-864d-4172-8fdd-1a652a365e83",
   "metadata": {},
   "outputs": [
    {
     "data": {
      "text/plain": [
       "('Bughati', 70, 30)"
      ]
     },
     "execution_count": 54,
     "metadata": {},
     "output_type": "execute_result"
    }
   ],
   "source": [
    "A.return_vehicle_details()"
   ]
  },
  {
   "cell_type": "code",
   "execution_count": 62,
   "id": "6c9acfde-54a8-4155-8b16-39b8d52c1792",
   "metadata": {},
   "outputs": [],
   "source": [
    "class vehicle1:\n",
    "    \n",
    "    def __init__(self,name_of_vehicle, seating_capacity) :\n",
    "        self.name_of_vehicle = name_of_vehicle\n",
    "        self.seating_capacity = seating_capacity\n",
    "    \n",
    "    def return_vehicle1_details(self):\n",
    "        return self.name_of_vehicle, self.seating_capacity"
   ]
  },
  {
   "cell_type": "code",
   "execution_count": 63,
   "id": "9dfa4732-7b21-4f23-9ef7-623f981ef3c9",
   "metadata": {},
   "outputs": [],
   "source": [
    "B = vehicle1(\"Bughati\", 2)"
   ]
  },
  {
   "cell_type": "code",
   "execution_count": 65,
   "id": "f4f7d4fd-c73b-4f33-9ba7-bd6c200f6c27",
   "metadata": {},
   "outputs": [
    {
     "data": {
      "text/plain": [
       "('Bughati', 2)"
      ]
     },
     "execution_count": 65,
     "metadata": {},
     "output_type": "execute_result"
    }
   ],
   "source": [
    "B.return_vehicle1_details()"
   ]
  },
  {
   "cell_type": "code",
   "execution_count": null,
   "id": "fbe04d6b-64ec-41c4-a205-2cbf4054d0d3",
   "metadata": {},
   "outputs": [],
   "source": [
    "3 When a class is derived from more than one base class\n",
    "it is called multiple inheritance"
   ]
  },
  {
   "cell_type": "code",
   "execution_count": 56,
   "id": "d369137c-022e-49a2-83ac-f59d153b3c35",
   "metadata": {},
   "outputs": [],
   "source": [
    "class class1:\n",
    "    \n",
    "    def test_class1(self):\n",
    "        return \"this is class1\"\n",
    "    "
   ]
  },
  {
   "cell_type": "code",
   "execution_count": 9,
   "id": "c91c615f-655a-4774-8366-388460ed0b1b",
   "metadata": {},
   "outputs": [],
   "source": [
    "class class2:\n",
    "    \n",
    "    def test_class2(self):\n",
    "        return \"this is class2\""
   ]
  },
  {
   "cell_type": "code",
   "execution_count": 10,
   "id": "0f31f4f6-7cc6-47db-b287-fc2097ea0615",
   "metadata": {},
   "outputs": [],
   "source": [
    "class class3(class1 , class2):\n",
    "    pass\n"
   ]
  },
  {
   "cell_type": "code",
   "execution_count": 11,
   "id": "1a221380-e7a6-41fd-ae73-cd977e86f74a",
   "metadata": {},
   "outputs": [],
   "source": [
    "obj_class3 = class3()"
   ]
  },
  {
   "cell_type": "code",
   "execution_count": 12,
   "id": "c38f40d3-f993-403a-adfc-f76b3bff85d5",
   "metadata": {},
   "outputs": [
    {
     "data": {
      "text/plain": [
       "'this is class1'"
      ]
     },
     "execution_count": 12,
     "metadata": {},
     "output_type": "execute_result"
    }
   ],
   "source": [
    "obj_class3.test_class1()"
   ]
  },
  {
   "cell_type": "code",
   "execution_count": 13,
   "id": "2e38baa5-b644-4352-be07-25a3865026c7",
   "metadata": {},
   "outputs": [
    {
     "data": {
      "text/plain": [
       "'this is class2'"
      ]
     },
     "execution_count": 13,
     "metadata": {},
     "output_type": "execute_result"
    }
   ],
   "source": [
    "obj_class3.test_class2()"
   ]
  },
  {
   "cell_type": "code",
   "execution_count": null,
   "id": "18c29f62-6cba-4b22-8abd-3e84590cf23b",
   "metadata": {},
   "outputs": [],
   "source": [
    "4 Getters are the methods used in OOPs which helps to access the private attribute from a class\n",
    "  Setters are the method used in OOPs feature which helps to set the value to value to private attribute in class "
   ]
  },
  {
   "cell_type": "code",
   "execution_count": 35,
   "id": "f6e8dd78-5b32-4767-9ae6-fc7cde28e87d",
   "metadata": {},
   "outputs": [],
   "source": [
    "class bank_account :\n",
    "    def __init__(self , balance) :\n",
    "        self.__balance = balance \n",
    "        \n",
    "    def deposit(self , amount) :\n",
    "        self.__balance = self.__balance + amount\n",
    "        \n",
    "    def withdraw(self , amount) :\n",
    "        if self.__balance >= amount :\n",
    "            self.__balance = self.__balance - amount\n",
    "            return True\n",
    "        else :\n",
    "            return False \n",
    "        \n",
    "    def get_balance(self):\n",
    "        return self.__balance\n",
    "      \n"
   ]
  },
  {
   "cell_type": "code",
   "execution_count": 36,
   "id": "4b607d0b-198d-4591-aa18-e605fe3d90e9",
   "metadata": {},
   "outputs": [],
   "source": [
    "vanshika = bank_account(500)"
   ]
  },
  {
   "cell_type": "code",
   "execution_count": 37,
   "id": "b55c7698-5d8b-4397-9e70-19305cd1207d",
   "metadata": {},
   "outputs": [
    {
     "data": {
      "text/plain": [
       "500"
      ]
     },
     "execution_count": 37,
     "metadata": {},
     "output_type": "execute_result"
    }
   ],
   "source": [
    "vanshika.get_balance()"
   ]
  },
  {
   "cell_type": "code",
   "execution_count": 38,
   "id": "c3ca4ef7-f329-4733-b692-29a5358eb8b5",
   "metadata": {},
   "outputs": [],
   "source": [
    "vanshika.deposit(1000)"
   ]
  },
  {
   "cell_type": "code",
   "execution_count": 39,
   "id": "78f2e130-5ea0-4a96-8e21-1796ebedaff0",
   "metadata": {},
   "outputs": [
    {
     "data": {
      "text/plain": [
       "1500"
      ]
     },
     "execution_count": 39,
     "metadata": {},
     "output_type": "execute_result"
    }
   ],
   "source": [
    "vanshika.get_balance()"
   ]
  },
  {
   "cell_type": "code",
   "execution_count": 40,
   "id": "68e7818d-3133-47a3-ade5-e3815b4cc26e",
   "metadata": {},
   "outputs": [
    {
     "data": {
      "text/plain": [
       "True"
      ]
     },
     "execution_count": 40,
     "metadata": {},
     "output_type": "execute_result"
    }
   ],
   "source": [
    "vanshika.withdraw(500)"
   ]
  },
  {
   "cell_type": "code",
   "execution_count": 41,
   "id": "4ab65960-c750-4b3a-86b8-4dac07e36b70",
   "metadata": {},
   "outputs": [
    {
     "data": {
      "text/plain": [
       "1000"
      ]
     },
     "execution_count": 41,
     "metadata": {},
     "output_type": "execute_result"
    }
   ],
   "source": [
    "vanshika.get_balance()"
   ]
  },
  {
   "cell_type": "code",
   "execution_count": 42,
   "id": "f2029668-3193-44ef-861e-8341b96ee47a",
   "metadata": {},
   "outputs": [
    {
     "data": {
      "text/plain": [
       "False"
      ]
     },
     "execution_count": 42,
     "metadata": {},
     "output_type": "execute_result"
    }
   ],
   "source": [
    "vanshika.withdraw(2000)"
   ]
  },
  {
   "cell_type": "code",
   "execution_count": null,
   "id": "5f3062f3-8ae4-4cf1-a9f2-1d826fccb807",
   "metadata": {},
   "outputs": [],
   "source": [
    "5 Method overriding is a feature of OOPs where the subclass or child class can provide the program with specific implementation\n",
    "process of data provided that are already defined in parent class"
   ]
  },
  {
   "cell_type": "code",
   "execution_count": 43,
   "id": "07933a08-b7b2-4c90-b1ed-b359d4bb2421",
   "metadata": {},
   "outputs": [],
   "source": [
    "class test:\n",
    "    \n",
    "    def test_meth(self):\n",
    "        return \"this is my first class \"\n",
    "    "
   ]
  },
  {
   "cell_type": "code",
   "execution_count": 44,
   "id": "ebf1b93f-86d4-49ab-8fb4-73c306ffdc37",
   "metadata": {},
   "outputs": [],
   "source": [
    "class child_test(test) :\n",
    "    pass"
   ]
  },
  {
   "cell_type": "code",
   "execution_count": 45,
   "id": "2974e042-ba77-4f41-bb7e-400bd051875c",
   "metadata": {},
   "outputs": [],
   "source": [
    "child_test_obj = child_test()"
   ]
  },
  {
   "cell_type": "code",
   "execution_count": 46,
   "id": "a35ad1f9-b2a4-4c33-829c-f1b08bd13046",
   "metadata": {},
   "outputs": [
    {
     "data": {
      "text/plain": [
       "'this is my first class '"
      ]
     },
     "execution_count": 46,
     "metadata": {},
     "output_type": "execute_result"
    }
   ],
   "source": [
    "child_test_obj.test_meth()"
   ]
  },
  {
   "cell_type": "code",
   "execution_count": null,
   "id": "32e6d582-567a-4378-83ce-6a91e1e67b91",
   "metadata": {},
   "outputs": [],
   "source": []
  }
 ],
 "metadata": {
  "kernelspec": {
   "display_name": "Python 3 (ipykernel)",
   "language": "python",
   "name": "python3"
  },
  "language_info": {
   "codemirror_mode": {
    "name": "ipython",
    "version": 3
   },
   "file_extension": ".py",
   "mimetype": "text/x-python",
   "name": "python",
   "nbconvert_exporter": "python",
   "pygments_lexer": "ipython3",
   "version": "3.10.8"
  }
 },
 "nbformat": 4,
 "nbformat_minor": 5
}
