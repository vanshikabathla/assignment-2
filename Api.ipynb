{
 "cells": [
  {
   "cell_type": "code",
   "execution_count": null,
   "id": "8698f423-a98c-4204-9a68-d480d2e72990",
   "metadata": {},
   "outputs": [],
   "source": [
    "1 Api is defined as the software code that helps two different software to communicate and exchange data with each other \n",
    "ex - googlepay, paytm\n",
    "Api used in back transaction , booking tickets and so on"
   ]
  },
  {
   "cell_type": "code",
   "execution_count": null,
   "id": "fa0fcf75-7ca7-418d-9ae0-cc514491afb9",
   "metadata": {},
   "outputs": [],
   "source": [
    "2 Advantage of Api is that it allows the content to be created once and published to many channels\n",
    "  Disadvantage of Api is that maintaenance cost is very high and Creating Api is a very time-consuming process. "
   ]
  },
  {
   "cell_type": "code",
   "execution_count": null,
   "id": "43338ccf-453e-4e19-8445-a7ff75a3ca2b",
   "metadata": {},
   "outputs": [],
   "source": [
    "3 Web API is an API as the name suggests, it can be accessed over the web using the HTTP protocol. It is a framework that helps you to create and develop HTTP based RESTFUL services.  \n",
    "Api is kind of interface which is having a set of functions and \n",
    "A web api can be developed by using different technologies such as java,ASP.NET"
   ]
  },
  {
   "cell_type": "code",
   "execution_count": null,
   "id": "c9591374-00fa-47e2-b49d-199ce1378c3c",
   "metadata": {},
   "outputs": [],
   "source": [
    "4 REST is a software architectural style that defines the set of rules to be used for creating web services\n",
    " SOAP is a message protocol that enables the distributed elements of an application to communicate\n",
    "    it uses XML format to transfer message  "
   ]
  },
  {
   "cell_type": "code",
   "execution_count": null,
   "id": "dc0a0a5f-b90a-4de1-8fa9-cc4b8611bcee",
   "metadata": {},
   "outputs": [],
   "source": []
  },
  {
   "cell_type": "code",
   "execution_count": null,
   "id": "bde13639-84fb-46de-90ca-30542b3aa8a3",
   "metadata": {},
   "outputs": [],
   "source": []
  }
 ],
 "metadata": {
  "kernelspec": {
   "display_name": "Python 3 (ipykernel)",
   "language": "python",
   "name": "python3"
  },
  "language_info": {
   "codemirror_mode": {
    "name": "ipython",
    "version": 3
   },
   "file_extension": ".py",
   "mimetype": "text/x-python",
   "name": "python",
   "nbconvert_exporter": "python",
   "pygments_lexer": "ipython3",
   "version": "3.10.8"
  }
 },
 "nbformat": 4,
 "nbformat_minor": 5
}
